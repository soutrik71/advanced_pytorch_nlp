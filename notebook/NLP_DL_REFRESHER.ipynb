{
 "cells": [
  {
   "cell_type": "markdown",
   "metadata": {},
   "source": [
    "The highlights of this notebooks:\n",
    "* Refresher on attempting application of Pytorch on text dataset using different methods to prep data\n",
    "* Application of self embedding model as well as LSTM for basic classification and some other basic classifiers\n",
    "* Application of pre-trained embedding model (GloVe) for classification using LSTM\n"
   ]
  },
  {
   "cell_type": "code",
   "execution_count": 1,
   "metadata": {},
   "outputs": [
    {
     "name": "stdout",
     "output_type": "stream",
     "text": [
      "/mnt/batch/tasks/shared/LS_root/mounts/clusters/insights-model-run/code/Users/soutrik.chowdhury/advanced_pytorch_nlp\n"
     ]
    }
   ],
   "source": [
    "import os\n",
    "\n",
    "os.chdir(\n",
    "    \"/mnt/batch/tasks/shared/LS_root/mounts/clusters/insights-model-run/code/Users/soutrik.chowdhury/advanced_pytorch_nlp\"\n",
    ")\n",
    "print(os.getcwd())"
   ]
  },
  {
   "cell_type": "code",
   "execution_count": 2,
   "metadata": {},
   "outputs": [],
   "source": [
    "import torch\n",
    "import torchtext\n",
    "import os\n",
    "from collections import Counter\n",
    "from torchtext.data.utils import get_tokenizer\n",
    "from torchtext.vocab import build_vocab_from_iterator\n",
    "from torchtext.data.utils import ngrams_iterator"
   ]
  },
  {
   "cell_type": "markdown",
   "metadata": {},
   "source": [
    " We will start with classification"
   ]
  },
  {
   "cell_type": "code",
   "execution_count": 3,
   "metadata": {},
   "outputs": [],
   "source": [
    "os.makedirs(\"./data\", exist_ok=True)\n",
    "train_dataset, test_dataset = torchtext.datasets.AG_NEWS(root=\"./data\")\n",
    "target_classes = [\"World\", \"Sports\", \"Business\", \"Sci/Tech\"]"
   ]
  },
  {
   "cell_type": "code",
   "execution_count": 4,
   "metadata": {},
   "outputs": [
    {
     "name": "stdout",
     "output_type": "stream",
     "text": [
      "Wall St. Bears Claw Back Into the Black (Reuters) Reuters - Short-sellers, Wall Street's dwindling\\band of ultra-cynics, are seeing green again.\n",
      "3\n"
     ]
    }
   ],
   "source": [
    "label, text = next(iter(train_dataset))\n",
    "print(text)\n",
    "print(label)"
   ]
  },
  {
   "cell_type": "code",
   "execution_count": 5,
   "metadata": {},
   "outputs": [
    {
     "name": "stdout",
     "output_type": "stream",
     "text": [
      "**Sci/Tech** -> Wall St. Bears Claw Back Into the Black (Reuters) Reuters - Short-sellers, Wall Street's dwindling\\band of ultra-cynics, are seeing green again.\n",
      "\n",
      "**Sci/Tech** -> Carlyle Looks Toward Commercial Aerospace (Reuters) Reuters - Private investment firm Carlyle Group,\\which has a reputation for making well-timed and occasionally\\controversial plays in the defense industry, has quietly placed\\its bets on another part of the market.\n",
      "\n",
      "**Sci/Tech** -> Oil and Economy Cloud Stocks' Outlook (Reuters) Reuters - Soaring crude prices plus worries\\about the economy and the outlook for earnings are expected to\\hang over the stock market next week during the depth of the\\summer doldrums.\n",
      "\n",
      "**Sci/Tech** -> Iraq Halts Oil Exports from Main Southern Pipeline (Reuters) Reuters - Authorities have halted oil export\\flows from the main pipeline in southern Iraq after\\intelligence showed a rebel militia could strike\\infrastructure, an oil official said on Saturday.\n",
      "\n",
      "**Sci/Tech** -> Oil prices soar to all-time record, posing new menace to US economy (AFP) AFP - Tearaway world oil prices, toppling records and straining wallets, present a new economic menace barely three months before the US presidential elections.\n",
      "\n"
     ]
    },
    {
     "name": "stderr",
     "output_type": "stream",
     "text": [
      "/home/azureuser/.local/lib/python3.10/site-packages/torch/utils/data/datapipes/iter/combining.py:337: UserWarning: Some child DataPipes are not exhausted when __iter__ is called. We are resetting the buffer and each child DataPipe will read from the start again.\n",
      "  warnings.warn(\"Some child DataPipes are not exhausted when __iter__ is called. We are resetting \"\n"
     ]
    }
   ],
   "source": [
    "for i, x in zip(range(5), train_dataset):\n",
    "    print(f\"**{target_classes[x[0]]}** -> {x[1]}\\n\")"
   ]
  },
  {
   "cell_type": "code",
   "execution_count": 6,
   "metadata": {},
   "outputs": [],
   "source": [
    "# ech list contains a tuple of label and text\n",
    "train_dataset = list(train_dataset)\n",
    "test_dataset = list(test_dataset)"
   ]
  },
  {
   "cell_type": "markdown",
   "metadata": {},
   "source": [
    "The first step is to convert text to tokens — tokenization"
   ]
  },
  {
   "cell_type": "code",
   "execution_count": 7,
   "metadata": {},
   "outputs": [],
   "source": [
    "tokenizer = get_tokenizer(\"basic_english\")"
   ]
  },
  {
   "cell_type": "code",
   "execution_count": 8,
   "metadata": {},
   "outputs": [
    {
     "data": {
      "text/plain": [
       "['wall',\n",
       " 'st',\n",
       " '.',\n",
       " 'bears',\n",
       " 'claw',\n",
       " 'back',\n",
       " 'into',\n",
       " 'the',\n",
       " 'black',\n",
       " '(',\n",
       " 'reuters',\n",
       " ')',\n",
       " 'reuters',\n",
       " '-',\n",
       " 'short-sellers',\n",
       " ',',\n",
       " 'wall',\n",
       " 'street',\n",
       " \"'\",\n",
       " 's',\n",
       " 'dwindling\\\\band',\n",
       " 'of',\n",
       " 'ultra-cynics',\n",
       " ',',\n",
       " 'are',\n",
       " 'seeing',\n",
       " 'green',\n",
       " 'again',\n",
       " '.']"
      ]
     },
     "execution_count": 8,
     "metadata": {},
     "output_type": "execute_result"
    }
   ],
   "source": [
    "tokenizer(train_dataset[0][-1])"
   ]
  },
  {
   "cell_type": "markdown",
   "metadata": {},
   "source": [
    "Vectorization using vocabulary"
   ]
  },
  {
   "cell_type": "code",
   "execution_count": 9,
   "metadata": {},
   "outputs": [
    {
     "data": {
      "text/plain": [
       "Counter({'wall': 2,\n",
       "         'st': 1,\n",
       "         '.': 2,\n",
       "         'bears': 1,\n",
       "         'claw': 1,\n",
       "         'back': 1,\n",
       "         'into': 1,\n",
       "         'the': 1,\n",
       "         'black': 1,\n",
       "         '(': 1,\n",
       "         'reuters': 2,\n",
       "         ')': 1,\n",
       "         '-': 1,\n",
       "         'short-sellers': 1,\n",
       "         ',': 2,\n",
       "         'street': 1,\n",
       "         \"'\": 1,\n",
       "         's': 1,\n",
       "         'dwindling\\\\band': 1,\n",
       "         'of': 1,\n",
       "         'ultra-cynics': 1,\n",
       "         'are': 1,\n",
       "         'seeing': 1,\n",
       "         'green': 1,\n",
       "         'again': 1})"
      ]
     },
     "execution_count": 9,
     "metadata": {},
     "output_type": "execute_result"
    }
   ],
   "source": [
    "# counter to measure frequency\n",
    "Counter(tokenizer(train_dataset[0][-1]))"
   ]
  },
  {
   "cell_type": "code",
   "execution_count": 10,
   "metadata": {},
   "outputs": [],
   "source": [
    "unk_token = \"<unk>\"\n",
    "default_index = -1"
   ]
  },
  {
   "cell_type": "markdown",
   "metadata": {},
   "source": [
    "Directly using an orderdict and vocab class"
   ]
  },
  {
   "cell_type": "code",
   "execution_count": 11,
   "metadata": {},
   "outputs": [],
   "source": [
    "counter_token = Counter()\n",
    "for label, line in train_dataset:\n",
    "    counter_token.update(tokenizer(line))"
   ]
  },
  {
   "cell_type": "code",
   "execution_count": 12,
   "metadata": {},
   "outputs": [],
   "source": [
    "vocabulary = torchtext.vocab.vocab(\n",
    "    counter_token, min_freq=1, specials=[unk_token])\n",
    "vocabulary.set_default_index(default_index)"
   ]
  },
  {
   "cell_type": "code",
   "execution_count": 13,
   "metadata": {},
   "outputs": [
    {
     "name": "stdout",
     "output_type": "stream",
     "text": [
      "0\n",
      "-1\n"
     ]
    }
   ],
   "source": [
    "print(vocabulary[\"<unk>\"])  # prints 0\n",
    "print(vocabulary[\"out of vocab\"])  # prints -1"
   ]
  },
  {
   "cell_type": "markdown",
   "metadata": {},
   "source": [
    "Another way is using an iterator and using build_vocab_from_iterator"
   ]
  },
  {
   "cell_type": "code",
   "execution_count": 14,
   "metadata": {},
   "outputs": [],
   "source": [
    "# def build_vocab_iter(datasets):\n",
    "#     \"\"\"yields tokenized text\"\"\"\n",
    "#     for dataset in datasets:\n",
    "#         for _, text in dataset:\n",
    "#             yield tokenizer(text)\n",
    "\n",
    "\n",
    "# vocabulary = build_vocab_from_iterator(\n",
    "#     build_vocab_iter([train_dataset, test_dataset]), specials=[unk_token]\n",
    "# )  # build vocab from an iterator\n",
    "# # anything unk will be have a default index\n",
    "# vocabulary.set_default_index(default_index)"
   ]
  },
  {
   "cell_type": "code",
   "execution_count": 15,
   "metadata": {},
   "outputs": [],
   "source": [
    "# print(vocabulary[\"<unk>\"])  # prints 0\n",
    "# print(vocabulary[\"out of vocab\"])  # prints -1"
   ]
  },
  {
   "cell_type": "code",
   "execution_count": 16,
   "metadata": {},
   "outputs": [
    {
     "name": "stdout",
     "output_type": "stream",
     "text": [
      "[(7837, 'nets'), (893, 'get'), (6108, 'carter'), (79, 'from'), (14070, 'raptors'), (13624, 'indianapolis'), (339, '--'), (8386, 'all-star'), (45003, 'vince'), (6108, 'carter'), (223, 'was'), (9132, 'traded'), (153, 'by'), (8, 'the'), (6504, 'toronto'), (14070, 'raptors'), (98, 'to'), (8, 'the'), (102, 'new'), (5489, 'jersey'), (7837, 'nets'), (39, 'for'), (34010, 'alonzo'), (26167, 'mourning'), (15, ','), (4421, 'eric'), (6105, 'williams'), (15, ','), (10829, 'aaron'), (6105, 'williams'), (15, ','), (42, 'and'), (37, 'a'), (1740, 'pair'), (20, 'of'), (7644, 'first-round'), (7645, 'draft'), (7751, 'picks'), (617, 'yesterday'), (3, '.')]\n"
     ]
    }
   ],
   "source": [
    "# This vocabulary maps words to indices present in the num corpus\n",
    "\n",
    "print([(vocabulary[token], token) for token in tokenizer(train_dataset[-1][-1])])"
   ]
  },
  {
   "cell_type": "code",
   "execution_count": 17,
   "metadata": {},
   "outputs": [
    {
     "name": "stdout",
     "output_type": "stream",
     "text": [
      "Vocab size if 95811\n"
     ]
    }
   ],
   "source": [
    "vocab_size = len(vocabulary)\n",
    "print(f\"Vocab size if {vocab_size}\")"
   ]
  },
  {
   "cell_type": "code",
   "execution_count": 18,
   "metadata": {},
   "outputs": [
    {
     "data": {
      "text/plain": [
       "[-1]"
      ]
     },
     "execution_count": 18,
     "metadata": {},
     "output_type": "execute_result"
    }
   ],
   "source": [
    "vocabulary([\"Maya\"])"
   ]
  },
  {
   "cell_type": "code",
   "execution_count": 19,
   "metadata": {},
   "outputs": [],
   "source": [
    "# Create and encoder and decoder function for word to index and reverse\n",
    "def encoder(x):\n",
    "    \"\"\"from string to integers\"\"\"\n",
    "    return vocabulary(tokenizer(x))\n",
    "\n",
    "\n",
    "def decoder(x):\n",
    "    \"\"\"from integers to string\"\"\"\n",
    "    return [vocabulary.get_itos()[index] for index in x]"
   ]
  },
  {
   "cell_type": "code",
   "execution_count": 20,
   "metadata": {},
   "outputs": [],
   "source": [
    "vec = encoder(train_dataset[0][-1])"
   ]
  },
  {
   "cell_type": "code",
   "execution_count": 21,
   "metadata": {},
   "outputs": [
    {
     "data": {
      "text/plain": [
       "\"wall st . bears claw back into the black ( reuters ) reuters - short-sellers , wall street ' s dwindling\\\\band of ultra-cynics , are seeing green again .\""
      ]
     },
     "execution_count": 21,
     "metadata": {},
     "output_type": "execute_result"
    }
   ],
   "source": [
    "\" \".join(decoder(vec))"
   ]
  },
  {
   "cell_type": "markdown",
   "metadata": {},
   "source": [
    "Tokenization misses out on BiGrams, TriGrams and N-Grams"
   ]
  },
  {
   "cell_type": "code",
   "execution_count": 22,
   "metadata": {},
   "outputs": [
    {
     "data": {
      "text/plain": [
       "['wall',\n",
       " 'st',\n",
       " '.',\n",
       " 'bears',\n",
       " 'claw',\n",
       " 'back',\n",
       " 'into',\n",
       " 'the',\n",
       " 'black',\n",
       " '(',\n",
       " 'reuters',\n",
       " ')',\n",
       " 'reuters',\n",
       " '-',\n",
       " 'short-sellers',\n",
       " ',',\n",
       " 'wall',\n",
       " 'street',\n",
       " \"'\",\n",
       " 's',\n",
       " 'dwindling\\\\band',\n",
       " 'of',\n",
       " 'ultra-cynics',\n",
       " ',',\n",
       " 'are',\n",
       " 'seeing',\n",
       " 'green',\n",
       " 'again',\n",
       " '.',\n",
       " 'wall st',\n",
       " 'st .',\n",
       " '. bears',\n",
       " 'bears claw',\n",
       " 'claw back',\n",
       " 'back into',\n",
       " 'into the',\n",
       " 'the black',\n",
       " 'black (',\n",
       " '( reuters',\n",
       " 'reuters )',\n",
       " ') reuters',\n",
       " 'reuters -',\n",
       " '- short-sellers',\n",
       " 'short-sellers ,',\n",
       " ', wall',\n",
       " 'wall street',\n",
       " \"street '\",\n",
       " \"' s\",\n",
       " 's dwindling\\\\band',\n",
       " 'dwindling\\\\band of',\n",
       " 'of ultra-cynics',\n",
       " 'ultra-cynics ,',\n",
       " ', are',\n",
       " 'are seeing',\n",
       " 'seeing green',\n",
       " 'green again',\n",
       " 'again .']"
      ]
     },
     "execution_count": 22,
     "metadata": {},
     "output_type": "execute_result"
    }
   ],
   "source": [
    "# first tokenize 1v1 and then 2 adjacent words together\n",
    "list(ngrams_iterator(tokenizer(train_dataset[0][-1]), 2))"
   ]
  },
  {
   "cell_type": "code",
   "execution_count": 23,
   "metadata": {},
   "outputs": [],
   "source": [
    "bi_counter_token = Counter()\n",
    "for label, line in train_dataset:\n",
    "    bi_counter_token.update(ngrams_iterator(tokenizer(line), 2))\n",
    "\n",
    "bi_vocabulary = torchtext.vocab.vocab(\n",
    "    bi_counter_token, min_freq=2, specials=[unk_token]\n",
    ")\n",
    "bi_vocabulary.set_default_index(default_index)"
   ]
  },
  {
   "cell_type": "code",
   "execution_count": 24,
   "metadata": {},
   "outputs": [
    {
     "name": "stdout",
     "output_type": "stream",
     "text": [
      "Vocab size if 481970\n"
     ]
    }
   ],
   "source": [
    "bi_vocab_size = len(bi_vocabulary)\n",
    "print(f\"Vocab size if {bi_vocab_size}\")"
   ]
  },
  {
   "cell_type": "markdown",
   "metadata": {},
   "source": [
    "As ngrams leads to more words we will stick to unigrams"
   ]
  },
  {
   "cell_type": "markdown",
   "metadata": {},
   "source": [
    "we’ll explore some of the approaches to feeding variable-length text into a neural network to collapse the input sequence into a fixed-length vector, which can then be used in the classifier."
   ]
  },
  {
   "cell_type": "markdown",
   "metadata": {},
   "source": [
    "BoW vector: Traditional representation where words are indexed, and vector elements count word occurrences in a document or sum one-hot-encoded vectors."
   ]
  },
  {
   "cell_type": "code",
   "execution_count": 25,
   "metadata": {},
   "outputs": [
    {
     "name": "stderr",
     "output_type": "stream",
     "text": [
      "[nltk_data] Downloading package stopwords to\n",
      "[nltk_data]     /home/azureuser/nltk_data...\n",
      "[nltk_data]   Package stopwords is already up-to-date!\n"
     ]
    },
    {
     "data": {
      "text/plain": [
       "True"
      ]
     },
     "execution_count": 25,
     "metadata": {},
     "output_type": "execute_result"
    }
   ],
   "source": [
    "import nltk \n",
    "from nltk.corpus import stopwords\n",
    "nltk.download('stopwords') "
   ]
  },
  {
   "cell_type": "code",
   "execution_count": 26,
   "metadata": {},
   "outputs": [],
   "source": [
    "# Create a set of stop words\n",
    "stop_words = set(stopwords.words(\"english\"))\n",
    "\n",
    "\n",
    "# Define a function to remove stop words from a sentence\n",
    "def remove_stop_words(sentence):\n",
    "    # Split the sentence into individual words\n",
    "    words = sentence.split(\" \")\n",
    "\n",
    "    # Use a list comprehension to remove stop words\n",
    "    filtered_words = [word for word in words if word not in stop_words]\n",
    "\n",
    "    # Join the filtered words back into a sentence\n",
    "    return \" \".join(filtered_words)"
   ]
  },
  {
   "cell_type": "code",
   "execution_count": 27,
   "metadata": {},
   "outputs": [],
   "source": [
    "def to_bow(text, vocab_size):\n",
    "    result_vector = torch.zeros(vocab_size, dtype=torch.float32)\n",
    "    text = remove_stop_words(text)\n",
    "    for i in encoder(text):\n",
    "        if i < vocab_size:\n",
    "            result_vector[i] += 1\n",
    "    return result_vector"
   ]
  },
  {
   "cell_type": "code",
   "execution_count": 28,
   "metadata": {},
   "outputs": [],
   "source": [
    "bow_vector = to_bow(train_dataset[0][-1], vocab_size)"
   ]
  },
  {
   "cell_type": "code",
   "execution_count": 29,
   "metadata": {},
   "outputs": [
    {
     "data": {
      "text/plain": [
       "95811"
      ]
     },
     "execution_count": 29,
     "metadata": {},
     "output_type": "execute_result"
    }
   ],
   "source": [
    "len(bow_vector)  # sparse vector"
   ]
  },
  {
   "cell_type": "markdown",
   "metadata": {},
   "source": [
    "BOW classifier"
   ]
  },
  {
   "cell_type": "code",
   "execution_count": 30,
   "metadata": {},
   "outputs": [],
   "source": [
    "import torch.nn as nn\n",
    "from torch.utils.data import DataLoader\n",
    "import re\n",
    "from torchsummary import summary\n",
    "from torchview import draw_graph\n",
    "from torcheval.metrics import MulticlassAccuracy, BinaryAccuracy\n",
    "import torch.optim as optim\n",
    "from sklearn.metrics import accuracy_score, classification_report, confusion_matrix\n",
    "from sklearn.metrics import confusion_matrix\n",
    "import scikitplot as skplt\n",
    "from src.pytorch_helpers import *"
   ]
  },
  {
   "cell_type": "code",
   "execution_count": 31,
   "metadata": {},
   "outputs": [
    {
     "name": "stdout",
     "output_type": "stream",
     "text": [
      "Random seed set as 42\n",
      "cuda\n"
     ]
    }
   ],
   "source": [
    "# Set manual seed since nn.Parameter are randomly initialzied\n",
    "set_seed(42)\n",
    "# Set device cuda for GPU if it's available otherwise run on the CPU\n",
    "device = torch.device(\"cuda\" if torch.cuda.is_available() else \"cpu\")\n",
    "print(device)\n",
    "batch_size = 10\n",
    "epochs = 10\n",
    "lr = 1e-3"
   ]
  },
  {
   "cell_type": "code",
   "execution_count": 32,
   "metadata": {},
   "outputs": [],
   "source": [
    "def vectorize_batch(batch):\n",
    "    \"\"\"Vectorize the batch\"\"\"\n",
    "    return (\n",
    "        torch.stack([to_bow(t[1], vocab_size) for t in batch])\n",
    "        .type(torch.float32)\n",
    "        .to(device),\n",
    "        torch.tensor([t[0] - 1 for t in batch], dtype=torch.int64).to(device),\n",
    "    )"
   ]
  },
  {
   "cell_type": "code",
   "execution_count": 33,
   "metadata": {},
   "outputs": [],
   "source": [
    "# As bow is very slow we will do it only for 1000 entries\n",
    "sub_train_dataset = train_dataset[: batch_size * 100]\n",
    "sub_test_dataset = test_dataset[: batch_size * 100]"
   ]
  },
  {
   "cell_type": "code",
   "execution_count": 34,
   "metadata": {},
   "outputs": [],
   "source": [
    "train_loader = DataLoader(\n",
    "    sub_train_dataset, batch_size=batch_size, collate_fn=vectorize_batch\n",
    ")\n",
    "test_loader = DataLoader(\n",
    "    sub_test_dataset, batch_size=batch_size, collate_fn=vectorize_batch\n",
    ")"
   ]
  },
  {
   "cell_type": "code",
   "execution_count": 35,
   "metadata": {},
   "outputs": [
    {
     "name": "stdout",
     "output_type": "stream",
     "text": [
      "torch.Size([10, 95811]) torch.Size([10])\n"
     ]
    }
   ],
   "source": [
    "for X, Y in train_loader:\n",
    "    print(X.shape, Y.shape)\n",
    "    break"
   ]
  },
  {
   "cell_type": "code",
   "execution_count": 36,
   "metadata": {},
   "outputs": [],
   "source": [
    "class BasicBOWClassifier(nn.Module):\n",
    "    \"\"\"Basic Bow Classifier\"\"\"\n",
    "\n",
    "    def __init__(self, num_classes):\n",
    "        super(BasicBOWClassifier, self).__init__()\n",
    "\n",
    "        self.fn_layer = nn.Sequential(\n",
    "            nn.Linear(vocab_size, 128),\n",
    "            nn.ReLU(),\n",
    "            nn.Linear(128, 64),\n",
    "            nn.ReLU(),\n",
    "            nn.Linear(64, num_classes),\n",
    "        )\n",
    "\n",
    "    def forward(self, x):\n",
    "        return self.fn_layer(x)"
   ]
  },
  {
   "cell_type": "code",
   "execution_count": 37,
   "metadata": {},
   "outputs": [
    {
     "name": "stdout",
     "output_type": "stream",
     "text": [
      "BasicBOWClassifier(\n",
      "  (fn_layer): Sequential(\n",
      "    (0): Linear(in_features=95811, out_features=128, bias=True)\n",
      "    (1): ReLU()\n",
      "    (2): Linear(in_features=128, out_features=64, bias=True)\n",
      "    (3): ReLU()\n",
      "    (4): Linear(in_features=64, out_features=4, bias=True)\n",
      "  )\n",
      ")\n",
      "----------------------------------------------------------------\n",
      "        Layer (type)               Output Shape         Param #\n",
      "================================================================\n",
      "            Linear-1              [-1, 10, 128]      12,263,936\n",
      "              ReLU-2              [-1, 10, 128]               0\n",
      "            Linear-3               [-1, 10, 64]           8,256\n",
      "              ReLU-4               [-1, 10, 64]               0\n",
      "            Linear-5                [-1, 10, 4]             260\n",
      "================================================================\n",
      "Total params: 12,272,452\n",
      "Trainable params: 12,272,452\n",
      "Non-trainable params: 0\n",
      "----------------------------------------------------------------\n",
      "Input size (MB): 3.65\n",
      "Forward/backward pass size (MB): 0.03\n",
      "Params size (MB): 46.82\n",
      "Estimated Total Size (MB): 50.50\n",
      "----------------------------------------------------------------\n"
     ]
    }
   ],
   "source": [
    "basic_classifier = BasicBOWClassifier(4).to(device)\n",
    "print(basic_classifier)\n",
    "summary(basic_classifier, input_size=[(batch_size, vocab_size)],)"
   ]
  },
  {
   "cell_type": "code",
   "execution_count": 38,
   "metadata": {},
   "outputs": [
    {
     "data": {
      "image/svg+xml": [
       "<?xml version=\"1.0\" encoding=\"UTF-8\" standalone=\"no\"?>\n",
       "<!DOCTYPE svg PUBLIC \"-//W3C//DTD SVG 1.1//EN\"\n",
       " \"http://www.w3.org/Graphics/SVG/1.1/DTD/svg11.dtd\">\n",
       "<!-- Generated by graphviz version 2.43.0 (0)\n",
       " -->\n",
       "<!-- Title: model Pages: 1 -->\n",
       "<svg width=\"216pt\" height=\"515pt\"\n",
       " viewBox=\"0.00 0.00 216.00 515.00\" xmlns=\"http://www.w3.org/2000/svg\" xmlns:xlink=\"http://www.w3.org/1999/xlink\">\n",
       "<g id=\"graph0\" class=\"graph\" transform=\"scale(1 1) rotate(0) translate(4 511)\">\n",
       "<title>model</title>\n",
       "<polygon fill=\"white\" stroke=\"transparent\" points=\"-4,4 -4,-511 212,-511 212,4 -4,4\"/>\n",
       "<g id=\"clust1\" class=\"cluster\">\n",
       "<title>cluster_2</title>\n",
       "<polygon fill=\"none\" stroke=\"black\" stroke-dasharray=\"5,2\" points=\"8,-8 8,-467 200,-467 200,-8 8,-8\"/>\n",
       "<text text-anchor=\"middle\" x=\"48\" y=\"-453.4\" font-family=\"Times,serif\" font-size=\"12.00\">Sequential</text>\n",
       "</g>\n",
       "<!-- 0 -->\n",
       "<g id=\"node1\" class=\"node\">\n",
       "<title>0</title>\n",
       "<polygon fill=\"lightyellow\" stroke=\"transparent\" points=\"178,-507 30,-507 30,-475 178,-475 178,-507\"/>\n",
       "<polygon fill=\"none\" stroke=\"black\" points=\"30,-475 30,-507 100,-507 100,-475 30,-475\"/>\n",
       "<text text-anchor=\"start\" x=\"35\" y=\"-494\" font-family=\"Linux libertine\" font-size=\"10.00\">input&#45;tensor</text>\n",
       "<text text-anchor=\"start\" x=\"46.5\" y=\"-483\" font-family=\"Linux libertine\" font-size=\"10.00\">depth:0</text>\n",
       "<polygon fill=\"none\" stroke=\"black\" points=\"100,-475 100,-507 178,-507 178,-475 100,-475\"/>\n",
       "<text text-anchor=\"start\" x=\"105\" y=\"-488.5\" font-family=\"Linux libertine\" font-size=\"10.00\">(1, 10, 95811)</text>\n",
       "</g>\n",
       "<!-- 1 -->\n",
       "<g id=\"node2\" class=\"node\">\n",
       "<title>1</title>\n",
       "<polygon fill=\"#c1ffc1\" stroke=\"transparent\" points=\"192,-438 16,-438 16,-396 192,-396 192,-438\"/>\n",
       "<polygon fill=\"none\" stroke=\"black\" points=\"16,-396 16,-438 63,-438 63,-396 16,-396\"/>\n",
       "<text text-anchor=\"start\" x=\"24\" y=\"-420\" font-family=\"Linux libertine\" font-size=\"10.00\">Linear</text>\n",
       "<text text-anchor=\"start\" x=\"21\" y=\"-409\" font-family=\"Linux libertine\" font-size=\"10.00\">depth:2</text>\n",
       "<polygon fill=\"none\" stroke=\"black\" points=\"63,-417 63,-438 111,-438 111,-417 63,-417\"/>\n",
       "<text text-anchor=\"start\" x=\"73\" y=\"-425\" font-family=\"Linux libertine\" font-size=\"10.00\">input:</text>\n",
       "<polygon fill=\"none\" stroke=\"black\" points=\"111,-417 111,-438 192,-438 192,-417 111,-417\"/>\n",
       "<text text-anchor=\"start\" x=\"116\" y=\"-425\" font-family=\"Linux libertine\" font-size=\"10.00\">(1, 10, 95811) </text>\n",
       "<polygon fill=\"none\" stroke=\"black\" points=\"63,-396 63,-417 111,-417 111,-396 63,-396\"/>\n",
       "<text text-anchor=\"start\" x=\"68\" y=\"-404\" font-family=\"Linux libertine\" font-size=\"10.00\">output: </text>\n",
       "<polygon fill=\"none\" stroke=\"black\" points=\"111,-396 111,-417 192,-417 192,-396 111,-396\"/>\n",
       "<text text-anchor=\"start\" x=\"122\" y=\"-404\" font-family=\"Linux libertine\" font-size=\"10.00\">(1, 10, 128) </text>\n",
       "</g>\n",
       "<!-- 0&#45;&gt;1 -->\n",
       "<g id=\"edge1\" class=\"edge\">\n",
       "<title>0&#45;&gt;1</title>\n",
       "<path fill=\"none\" stroke=\"black\" d=\"M104,-474.73C104,-467.08 104,-457.52 104,-448.45\"/>\n",
       "<polygon fill=\"black\" stroke=\"black\" points=\"107.5,-448.17 104,-438.17 100.5,-448.17 107.5,-448.17\"/>\n",
       "</g>\n",
       "<!-- 2 -->\n",
       "<g id=\"node3\" class=\"node\">\n",
       "<title>2</title>\n",
       "<polygon fill=\"#c1ffc1\" stroke=\"transparent\" points=\"186,-360 22,-360 22,-318 186,-318 186,-360\"/>\n",
       "<polygon fill=\"none\" stroke=\"black\" points=\"22,-318 22,-360 69,-360 69,-318 22,-318\"/>\n",
       "<text text-anchor=\"start\" x=\"32.5\" y=\"-342\" font-family=\"Linux libertine\" font-size=\"10.00\">ReLU</text>\n",
       "<text text-anchor=\"start\" x=\"27\" y=\"-331\" font-family=\"Linux libertine\" font-size=\"10.00\">depth:2</text>\n",
       "<polygon fill=\"none\" stroke=\"black\" points=\"69,-339 69,-360 117,-360 117,-339 69,-339\"/>\n",
       "<text text-anchor=\"start\" x=\"79\" y=\"-347\" font-family=\"Linux libertine\" font-size=\"10.00\">input:</text>\n",
       "<polygon fill=\"none\" stroke=\"black\" points=\"117,-339 117,-360 186,-360 186,-339 117,-339\"/>\n",
       "<text text-anchor=\"start\" x=\"122\" y=\"-347\" font-family=\"Linux libertine\" font-size=\"10.00\">(1, 10, 128) </text>\n",
       "<polygon fill=\"none\" stroke=\"black\" points=\"69,-318 69,-339 117,-339 117,-318 69,-318\"/>\n",
       "<text text-anchor=\"start\" x=\"74\" y=\"-326\" font-family=\"Linux libertine\" font-size=\"10.00\">output: </text>\n",
       "<polygon fill=\"none\" stroke=\"black\" points=\"117,-318 117,-339 186,-339 186,-318 117,-318\"/>\n",
       "<text text-anchor=\"start\" x=\"122\" y=\"-326\" font-family=\"Linux libertine\" font-size=\"10.00\">(1, 10, 128) </text>\n",
       "</g>\n",
       "<!-- 1&#45;&gt;2 -->\n",
       "<g id=\"edge2\" class=\"edge\">\n",
       "<title>1&#45;&gt;2</title>\n",
       "<path fill=\"none\" stroke=\"black\" d=\"M104,-395.63C104,-387.82 104,-378.73 104,-370.18\"/>\n",
       "<polygon fill=\"black\" stroke=\"black\" points=\"107.5,-370.16 104,-360.16 100.5,-370.16 107.5,-370.16\"/>\n",
       "</g>\n",
       "<!-- 3 -->\n",
       "<g id=\"node4\" class=\"node\">\n",
       "<title>3</title>\n",
       "<polygon fill=\"#c1ffc1\" stroke=\"transparent\" points=\"186,-282 22,-282 22,-240 186,-240 186,-282\"/>\n",
       "<polygon fill=\"none\" stroke=\"black\" points=\"22,-240 22,-282 69,-282 69,-240 22,-240\"/>\n",
       "<text text-anchor=\"start\" x=\"30\" y=\"-264\" font-family=\"Linux libertine\" font-size=\"10.00\">Linear</text>\n",
       "<text text-anchor=\"start\" x=\"27\" y=\"-253\" font-family=\"Linux libertine\" font-size=\"10.00\">depth:2</text>\n",
       "<polygon fill=\"none\" stroke=\"black\" points=\"69,-261 69,-282 117,-282 117,-261 69,-261\"/>\n",
       "<text text-anchor=\"start\" x=\"79\" y=\"-269\" font-family=\"Linux libertine\" font-size=\"10.00\">input:</text>\n",
       "<polygon fill=\"none\" stroke=\"black\" points=\"117,-261 117,-282 186,-282 186,-261 117,-261\"/>\n",
       "<text text-anchor=\"start\" x=\"122\" y=\"-269\" font-family=\"Linux libertine\" font-size=\"10.00\">(1, 10, 128) </text>\n",
       "<polygon fill=\"none\" stroke=\"black\" points=\"69,-240 69,-261 117,-261 117,-240 69,-240\"/>\n",
       "<text text-anchor=\"start\" x=\"74\" y=\"-248\" font-family=\"Linux libertine\" font-size=\"10.00\">output: </text>\n",
       "<polygon fill=\"none\" stroke=\"black\" points=\"117,-240 117,-261 186,-261 186,-240 117,-240\"/>\n",
       "<text text-anchor=\"start\" x=\"125\" y=\"-248\" font-family=\"Linux libertine\" font-size=\"10.00\">(1, 10, 64) </text>\n",
       "</g>\n",
       "<!-- 2&#45;&gt;3 -->\n",
       "<g id=\"edge3\" class=\"edge\">\n",
       "<title>2&#45;&gt;3</title>\n",
       "<path fill=\"none\" stroke=\"black\" d=\"M104,-317.63C104,-309.82 104,-300.73 104,-292.18\"/>\n",
       "<polygon fill=\"black\" stroke=\"black\" points=\"107.5,-292.16 104,-282.16 100.5,-292.16 107.5,-292.16\"/>\n",
       "</g>\n",
       "<!-- 4 -->\n",
       "<g id=\"node5\" class=\"node\">\n",
       "<title>4</title>\n",
       "<polygon fill=\"#c1ffc1\" stroke=\"transparent\" points=\"183,-204 25,-204 25,-162 183,-162 183,-204\"/>\n",
       "<polygon fill=\"none\" stroke=\"black\" points=\"25,-162 25,-204 72,-204 72,-162 25,-162\"/>\n",
       "<text text-anchor=\"start\" x=\"35.5\" y=\"-186\" font-family=\"Linux libertine\" font-size=\"10.00\">ReLU</text>\n",
       "<text text-anchor=\"start\" x=\"30\" y=\"-175\" font-family=\"Linux libertine\" font-size=\"10.00\">depth:2</text>\n",
       "<polygon fill=\"none\" stroke=\"black\" points=\"72,-183 72,-204 120,-204 120,-183 72,-183\"/>\n",
       "<text text-anchor=\"start\" x=\"82\" y=\"-191\" font-family=\"Linux libertine\" font-size=\"10.00\">input:</text>\n",
       "<polygon fill=\"none\" stroke=\"black\" points=\"120,-183 120,-204 183,-204 183,-183 120,-183\"/>\n",
       "<text text-anchor=\"start\" x=\"125\" y=\"-191\" font-family=\"Linux libertine\" font-size=\"10.00\">(1, 10, 64) </text>\n",
       "<polygon fill=\"none\" stroke=\"black\" points=\"72,-162 72,-183 120,-183 120,-162 72,-162\"/>\n",
       "<text text-anchor=\"start\" x=\"77\" y=\"-170\" font-family=\"Linux libertine\" font-size=\"10.00\">output: </text>\n",
       "<polygon fill=\"none\" stroke=\"black\" points=\"120,-162 120,-183 183,-183 183,-162 120,-162\"/>\n",
       "<text text-anchor=\"start\" x=\"125\" y=\"-170\" font-family=\"Linux libertine\" font-size=\"10.00\">(1, 10, 64) </text>\n",
       "</g>\n",
       "<!-- 3&#45;&gt;4 -->\n",
       "<g id=\"edge4\" class=\"edge\">\n",
       "<title>3&#45;&gt;4</title>\n",
       "<path fill=\"none\" stroke=\"black\" d=\"M104,-239.63C104,-231.82 104,-222.73 104,-214.18\"/>\n",
       "<polygon fill=\"black\" stroke=\"black\" points=\"107.5,-214.16 104,-204.16 100.5,-214.16 107.5,-214.16\"/>\n",
       "</g>\n",
       "<!-- 5 -->\n",
       "<g id=\"node6\" class=\"node\">\n",
       "<title>5</title>\n",
       "<polygon fill=\"#c1ffc1\" stroke=\"transparent\" points=\"183,-126 25,-126 25,-84 183,-84 183,-126\"/>\n",
       "<polygon fill=\"none\" stroke=\"black\" points=\"25,-84 25,-126 72,-126 72,-84 25,-84\"/>\n",
       "<text text-anchor=\"start\" x=\"33\" y=\"-108\" font-family=\"Linux libertine\" font-size=\"10.00\">Linear</text>\n",
       "<text text-anchor=\"start\" x=\"30\" y=\"-97\" font-family=\"Linux libertine\" font-size=\"10.00\">depth:2</text>\n",
       "<polygon fill=\"none\" stroke=\"black\" points=\"72,-105 72,-126 120,-126 120,-105 72,-105\"/>\n",
       "<text text-anchor=\"start\" x=\"82\" y=\"-113\" font-family=\"Linux libertine\" font-size=\"10.00\">input:</text>\n",
       "<polygon fill=\"none\" stroke=\"black\" points=\"120,-105 120,-126 183,-126 183,-105 120,-105\"/>\n",
       "<text text-anchor=\"start\" x=\"125\" y=\"-113\" font-family=\"Linux libertine\" font-size=\"10.00\">(1, 10, 64) </text>\n",
       "<polygon fill=\"none\" stroke=\"black\" points=\"72,-84 72,-105 120,-105 120,-84 72,-84\"/>\n",
       "<text text-anchor=\"start\" x=\"77\" y=\"-92\" font-family=\"Linux libertine\" font-size=\"10.00\">output: </text>\n",
       "<polygon fill=\"none\" stroke=\"black\" points=\"120,-84 120,-105 183,-105 183,-84 120,-84\"/>\n",
       "<text text-anchor=\"start\" x=\"128\" y=\"-92\" font-family=\"Linux libertine\" font-size=\"10.00\">(1, 10, 4) </text>\n",
       "</g>\n",
       "<!-- 4&#45;&gt;5 -->\n",
       "<g id=\"edge5\" class=\"edge\">\n",
       "<title>4&#45;&gt;5</title>\n",
       "<path fill=\"none\" stroke=\"black\" d=\"M104,-161.63C104,-153.82 104,-144.73 104,-136.18\"/>\n",
       "<polygon fill=\"black\" stroke=\"black\" points=\"107.5,-136.16 104,-126.16 100.5,-136.16 107.5,-136.16\"/>\n",
       "</g>\n",
       "<!-- 6 -->\n",
       "<g id=\"node7\" class=\"node\">\n",
       "<title>6</title>\n",
       "<polygon fill=\"lightyellow\" stroke=\"transparent\" points=\"169.5,-48 38.5,-48 38.5,-16 169.5,-16 169.5,-48\"/>\n",
       "<polygon fill=\"none\" stroke=\"black\" points=\"39,-16 39,-48 116,-48 116,-16 39,-16\"/>\n",
       "<text text-anchor=\"start\" x=\"44\" y=\"-35\" font-family=\"Linux libertine\" font-size=\"10.00\">output&#45;tensor</text>\n",
       "<text text-anchor=\"start\" x=\"59\" y=\"-24\" font-family=\"Linux libertine\" font-size=\"10.00\">depth:0</text>\n",
       "<polygon fill=\"none\" stroke=\"black\" points=\"116,-16 116,-48 170,-48 170,-16 116,-16\"/>\n",
       "<text text-anchor=\"start\" x=\"121\" y=\"-29.5\" font-family=\"Linux libertine\" font-size=\"10.00\">(1, 10, 4)</text>\n",
       "</g>\n",
       "<!-- 5&#45;&gt;6 -->\n",
       "<g id=\"edge6\" class=\"edge\">\n",
       "<title>5&#45;&gt;6</title>\n",
       "<path fill=\"none\" stroke=\"black\" d=\"M104,-83.84C104,-75.89 104,-66.66 104,-58.26\"/>\n",
       "<polygon fill=\"black\" stroke=\"black\" points=\"107.5,-58.24 104,-48.24 100.5,-58.24 107.5,-58.24\"/>\n",
       "</g>\n",
       "</g>\n",
       "</svg>\n"
      ],
      "text/plain": [
       "<graphviz.graphs.Digraph at 0x7ff81ba17ca0>"
      ]
     },
     "execution_count": 38,
     "metadata": {},
     "output_type": "execute_result"
    }
   ],
   "source": [
    "# graphical representation of the model architecture\n",
    "model_graph = draw_graph(\n",
    "    basic_classifier, input_size=(1, batch_size, vocab_size), expand_nested=True\n",
    ")\n",
    "model_graph.resize_graph(scale=10)\n",
    "model_graph.visual_graph"
   ]
  },
  {
   "cell_type": "code",
   "execution_count": 39,
   "metadata": {},
   "outputs": [],
   "source": [
    "# driver setup\n",
    "optimizer = optim.Adam(basic_classifier.parameters(), lr=lr, weight_decay=1e-3)\n",
    "criterion = nn.CrossEntropyLoss()\n",
    "metric = MulticlassAccuracy(device=device, num_classes=4)"
   ]
  },
  {
   "cell_type": "code",
   "execution_count": 40,
   "metadata": {},
   "outputs": [
    {
     "name": "stdout",
     "output_type": "stream",
     "text": [
      "Epoch 0\n"
     ]
    },
    {
     "name": "stderr",
     "output_type": "stream",
     "text": [
      "Avg Train Loss: 1.4532230861485005 Avg Train Metric: 0.4436385416984558: 100%|███████████████████████████████████████████████████████████████████████████████████████████████████████████████████████████████████████████████████████████████████████████████████████████████████████████████████████████████████████████████████████████████████████████████████████████████████████████████████████████████████████████████████████████████████████████████████████████████████████████████████████████████████████████████████████████████████████████████████████████████████████████████████████████████████████████████████████████████████████████████████████████████████████████████████████████████████████████████████████████████████████████████████████████████████████████████████████████████████████████████████████████████████████████████████████████████████████████████████████████████████████████████████████████████████████████████████████████████████████████████████████| 100/100 [00:02<00:00, 48.16it/s]\n",
      "Avg Test Loss: 1.3191719841957092 Avg Test Metric: 0.32573290646076203: 100%|████████████████████████████████████████████████████████████████████████████████████████████████████████████████████████████████████████████████████████████████████████████████████████████████████████████████████████████████████████████████████████████████████████████████████████████████████████████████████████████████████████████████████████████████████████████████████████████████████████████████████████████████████████████████████████████████████████████████████████████████████████████████████████████████████████████████████████████████████████████████████████████████████████████████████████████████████████████████████████████████████████████████████████████████████████████████████████████████████████████████████████████████████████████████████████████████████████████████████████████████████████████████████████████████████████████████████████████████████████████████████████| 100/100 [00:01<00:00, 83.25it/s]\n"
     ]
    },
    {
     "name": "stdout",
     "output_type": "stream",
     "text": [
      "Epoch 1\n"
     ]
    },
    {
     "name": "stderr",
     "output_type": "stream",
     "text": [
      "Avg Train Loss: 1.0328660479560494 Avg Train Metric: 0.6085626663267613: 100%|███████████████████████████████████████████████████████████████████████████████████████████████████████████████████████████████████████████████████████████████████████████████████████████████████████████████████████████████████████████████████████████████████████████████████████████████████████████████████████████████████████████████████████████████████████████████████████████████████████████████████████████████████████████████████████████████████████████████████████████████████████████████████████████████████████████████████████████████████████████████████████████████████████████████████████████████████████████████████████████████████████████████████████████████████████████████████████████████████████████████████████████████████████████████████████████████████████████████████████████████████████████████████████████████████████████████████████████████████████████████████████| 100/100 [00:01<00:00, 53.21it/s]\n",
      "Avg Test Loss: 1.1641512289643288 Avg Test Metric: 0.4945797926187515: 100%|█████████████████████████████████████████████████████████████████████████████████████████████████████████████████████████████████████████████████████████████████████████████████████████████████████████████████████████████████████████████████████████████████████████████████████████████████████████████████████████████████████████████████████████████████████████████████████████████████████████████████████████████████████████████████████████████████████████████████████████████████████████████████████████████████████████████████████████████████████████████████████████████████████████████████████████████████████████████████████████████████████████████████████████████████████████████████████████████████████████████████████████████████████████████████████████████████████████████████████████████████████████████████████████████████████████████████████████████████████████████████████████| 100/100 [00:01<00:00, 70.62it/s]\n"
     ]
    },
    {
     "name": "stdout",
     "output_type": "stream",
     "text": [
      "Epoch 2\n"
     ]
    },
    {
     "name": "stderr",
     "output_type": "stream",
     "text": [
      "Avg Train Loss: 0.6984906765446067 Avg Train Metric: 0.6459793493151664: 100%|███████████████████████████████████████████████████████████████████████████████████████████████████████████████████████████████████████████████████████████████████████████████████████████████████████████████████████████████████████████████████████████████████████████████████████████████████████████████████████████████████████████████████████████████████████████████████████████████████████████████████████████████████████████████████████████████████████████████████████████████████████████████████████████████████████████████████████████████████████████████████████████████████████████████████████████████████████████████████████████████████████████████████████████████████████████████████████████████████████████████████████████████████████████████████████████████████████████████████████████████████████████████████████████████████████████████████████████████████████████████████████| 100/100 [00:01<00:00, 57.47it/s]\n",
      "Avg Test Loss: 1.0084283074736595 Avg Test Metric: 0.5353610044717789: 100%|█████████████████████████████████████████████████████████████████████████████████████████████████████████████████████████████████████████████████████████████████████████████████████████████████████████████████████████████████████████████████████████████████████████████████████████████████████████████████████████████████████████████████████████████████████████████████████████████████████████████████████████████████████████████████████████████████████████████████████████████████████████████████████████████████████████████████████████████████████████████████████████████████████████████████████████████████████████████████████████████████████████████████████████████████████████████████████████████████████████████████████████████████████████████████████████████████████████████████████████████████████████████████████████████████████████████████████████████████████████████████████████| 100/100 [00:01<00:00, 88.46it/s]\n"
     ]
    },
    {
     "name": "stdout",
     "output_type": "stream",
     "text": [
      "Epoch 3\n"
     ]
    },
    {
     "name": "stderr",
     "output_type": "stream",
     "text": [
      "Avg Train Loss: 0.3798114733304828 Avg Train Metric: 0.8597654730081559: 100%|███████████████████████████████████████████████████████████████████████████████████████████████████████████████████████████████████████████████████████████████████████████████████████████████████████████████████████████████████████████████████████████████████████████████████████████████████████████████████████████████████████████████████████████████████████████████████████████████████████████████████████████████████████████████████████████████████████████████████████████████████████████████████████████████████████████████████████████████████████████████████████████████████████████████████████████████████████████████████████████████████████████████████████████████████████████████████████████████████████████████████████████████████████████████████████████████████████████████████████████████████████████████████████████████████████████████████████████████████████████████████████| 100/100 [00:01<00:00, 52.83it/s]\n",
      "Avg Test Loss: 0.9187178055942059 Avg Test Metric: 0.6579570174217224: 100%|█████████████████████████████████████████████████████████████████████████████████████████████████████████████████████████████████████████████████████████████████████████████████████████████████████████████████████████████████████████████████████████████████████████████████████████████████████████████████████████████████████████████████████████████████████████████████████████████████████████████████████████████████████████████████████████████████████████████████████████████████████████████████████████████████████████████████████████████████████████████████████████████████████████████████████████████████████████████████████████████████████████████████████████████████████████████████████████████████████████████████████████████████████████████████████████████████████████████████████████████████████████████████████████████████████████████████████████████████████████████████████████| 100/100 [00:01<00:00, 87.95it/s]\n"
     ]
    },
    {
     "name": "stdout",
     "output_type": "stream",
     "text": [
      "Epoch 4\n"
     ]
    },
    {
     "name": "stderr",
     "output_type": "stream",
     "text": [
      "Avg Train Loss: 0.16807423015590758 Avg Train Metric: 0.9810120224952698: 100%|██████████████████████████████████████████████████████████████████████████████████████████████████████████████████████████████████████████████████████████████████████████████████████████████████████████████████████████████████████████████████████████████████████████████████████████████████████████████████████████████████████████████████████████████████████████████████████████████████████████████████████████████████████████████████████████████████████████████████████████████████████████████████████████████████████████████████████████████████████████████████████████████████████████████████████████████████████████████████████████████████████████████████████████████████████████████████████████████████████████████████████████████████████████████████████████████████████████████████████████████████████████████████████████████████████████████████████████████████████████████████████| 100/100 [00:01<00:00, 61.51it/s]\n",
      "Avg Test Loss: 0.9589326204359532 Avg Test Metric: 0.7017337077856064: 100%|█████████████████████████████████████████████████████████████████████████████████████████████████████████████████████████████████████████████████████████████████████████████████████████████████████████████████████████████████████████████████████████████████████████████████████████████████████████████████████████████████████████████████████████████████████████████████████████████████████████████████████████████████████████████████████████████████████████████████████████████████████████████████████████████████████████████████████████████████████████████████████████████████████████████████████████████████████████████████████████████████████████████████████████████████████████████████████████████████████████████████████████████████████████████████████████████████████████████████████████████████████████████████████████████████████████████████████████████████████████████████████████| 100/100 [00:01<00:00, 86.62it/s]\n"
     ]
    },
    {
     "name": "stdout",
     "output_type": "stream",
     "text": [
      "Epoch 5\n"
     ]
    },
    {
     "name": "stderr",
     "output_type": "stream",
     "text": [
      "Avg Train Loss: 0.07236678245535585 Avg Train Metric: 0.9963009619712829: 100%|██████████████████████████████████████████████████████████████████████████████████████████████████████████████████████████████████████████████████████████████████████████████████████████████████████████████████████████████████████████████████████████████████████████████████████████████████████████████████████████████████████████████████████████████████████████████████████████████████████████████████████████████████████████████████████████████████████████████████████████████████████████████████████████████████████████████████████████████████████████████████████████████████████████████████████████████████████████████████████████████████████████████████████████████████████████████████████████████████████████████████████████████████████████████████████████████████████████████████████████████████████████████████████████████████████████████████████████████████████████████████████| 100/100 [00:01<00:00, 65.55it/s]\n",
      "Avg Test Loss: 1.0365406952798366 Avg Test Metric: 0.7185300725698471: 100%|█████████████████████████████████████████████████████████████████████████████████████████████████████████████████████████████████████████████████████████████████████████████████████████████████████████████████████████████████████████████████████████████████████████████████████████████████████████████████████████████████████████████████████████████████████████████████████████████████████████████████████████████████████████████████████████████████████████████████████████████████████████████████████████████████████████████████████████████████████████████████████████████████████████████████████████████████████████████████████████████████████████████████████████████████████████████████████████████████████████████████████████████████████████████████████████████████████████████████████████████████████████████████████████████████████████████████████████████████████████████████████████| 100/100 [00:01<00:00, 61.52it/s]\n"
     ]
    },
    {
     "name": "stdout",
     "output_type": "stream",
     "text": [
      "Epoch 6\n"
     ]
    },
    {
     "name": "stderr",
     "output_type": "stream",
     "text": [
      "Avg Train Loss: 0.04150171425077133 Avg Train Metric: 0.9864485073089599: 100%|██████████████████████████████████████████████████████████████████████████████████████████████████████████████████████████████████████████████████████████████████████████████████████████████████████████████████████████████████████████████████████████████████████████████████████████████████████████████████████████████████████████████████████████████████████████████████████████████████████████████████████████████████████████████████████████████████████████████████████████████████████████████████████████████████████████████████████████████████████████████████████████████████████████████████████████████████████████████████████████████████████████████████████████████████████████████████████████████████████████████████████████████████████████████████████████████████████████████████████████████████████████████████████████████████████████████████████████████████████████████████████| 100/100 [00:01<00:00, 68.07it/s]\n",
      "Avg Test Loss: 1.1051830957084894 Avg Test Metric: 0.7132713061571121: 100%|█████████████████████████████████████████████████████████████████████████████████████████████████████████████████████████████████████████████████████████████████████████████████████████████████████████████████████████████████████████████████████████████████████████████████████████████████████████████████████████████████████████████████████████████████████████████████████████████████████████████████████████████████████████████████████████████████████████████████████████████████████████████████████████████████████████████████████████████████████████████████████████████████████████████████████████████████████████████████████████████████████████████████████████████████████████████████████████████████████████████████████████████████████████████████████████████████████████████████████████████████████████████████████████████████████████████████████████████████████████████████████████| 100/100 [00:01<00:00, 74.74it/s]\n"
     ]
    },
    {
     "name": "stdout",
     "output_type": "stream",
     "text": [
      "Epoch 7\n"
     ]
    },
    {
     "name": "stderr",
     "output_type": "stream",
     "text": [
      "Avg Train Loss: 0.02647149136148073 Avg Train Metric: 0.9981787127256393: 100%|██████████████████████████████████████████████████████████████████████████████████████████████████████████████████████████████████████████████████████████████████████████████████████████████████████████████████████████████████████████████████████████████████████████████████████████████████████████████████████████████████████████████████████████████████████████████████████████████████████████████████████████████████████████████████████████████████████████████████████████████████████████████████████████████████████████████████████████████████████████████████████████████████████████████████████████████████████████████████████████████████████████████████████████████████████████████████████████████████████████████████████████████████████████████████████████████████████████████████████████████████████████████████████████████████████████████████████████████████████████████████████| 100/100 [00:01<00:00, 68.27it/s]\n",
      "Avg Test Loss: 1.0081663235276936 Avg Test Metric: 0.7111341100931168: 100%|█████████████████████████████████████████████████████████████████████████████████████████████████████████████████████████████████████████████████████████████████████████████████████████████████████████████████████████████████████████████████████████████████████████████████████████████████████████████████████████████████████████████████████████████████████████████████████████████████████████████████████████████████████████████████████████████████████████████████████████████████████████████████████████████████████████████████████████████████████████████████████████████████████████████████████████████████████████████████████████████████████████████████████████████████████████████████████████████████████████████████████████████████████████████████████████████████████████████████████████████████████████████████████████████████████████████████████████████████████████████████████████| 100/100 [00:01<00:00, 89.06it/s]\n"
     ]
    },
    {
     "name": "stdout",
     "output_type": "stream",
     "text": [
      "Epoch 8\n"
     ]
    },
    {
     "name": "stderr",
     "output_type": "stream",
     "text": [
      "Avg Train Loss: 0.02194462392522837 Avg Train Metric: 0.9980739051103592: 100%|██████████████████████████████████████████████████████████████████████████████████████████████████████████████████████████████████████████████████████████████████████████████████████████████████████████████████████████████████████████████████████████████████████████████████████████████████████████████████████████████████████████████████████████████████████████████████████████████████████████████████████████████████████████████████████████████████████████████████████████████████████████████████████████████████████████████████████████████████████████████████████████████████████████████████████████████████████████████████████████████████████████████████████████████████████████████████████████████████████████████████████████████████████████████████████████████████████████████████████████████████████████████████████████████████████████████████████████████████████████████████████| 100/100 [00:01<00:00, 52.35it/s]\n",
      "Avg Test Loss: 0.8392028903961182 Avg Test Metric: 0.7448734849691391: 100%|█████████████████████████████████████████████████████████████████████████████████████████████████████████████████████████████████████████████████████████████████████████████████████████████████████████████████████████████████████████████████████████████████████████████████████████████████████████████████████████████████████████████████████████████████████████████████████████████████████████████████████████████████████████████████████████████████████████████████████████████████████████████████████████████████████████████████████████████████████████████████████████████████████████████████████████████████████████████████████████████████████████████████████████████████████████████████████████████████████████████████████████████████████████████████████████████████████████████████████████████████████████████████████████████████████████████████████████████████████████████████████████| 100/100 [00:01<00:00, 91.67it/s]\n"
     ]
    },
    {
     "name": "stdout",
     "output_type": "stream",
     "text": [
      "Epoch 9\n"
     ]
    },
    {
     "name": "stderr",
     "output_type": "stream",
     "text": [
      "Avg Train Loss: 0.019895044419681655 Avg Train Metric: 0.99808489382267: 100%|███████████████████████████████████████████████████████████████████████████████████████████████████████████████████████████████████████████████████████████████████████████████████████████████████████████████████████████████████████████████████████████████████████████████████████████████████████████████████████████████████████████████████████████████████████████████████████████████████████████████████████████████████████████████████████████████████████████████████████████████████████████████████████████████████████████████████████████████████████████████████████████████████████████████████████████████████████████████████████████████████████████████████████████████████████████████████████████████████████████████████████████████████████████████████████████████████████████████████████████████████████████████████████████████████████████████████████████████████████████████████████| 100/100 [00:01<00:00, 55.85it/s]\n",
      "Avg Test Loss: 0.9338788121938706 Avg Test Metric: 0.704935891032219: 100%|██████████████████████████████████████████████████████████████████████████████████████████████████████████████████████████████████████████████████████████████████████████████████████████████████████████████████████████████████████████████████████████████████████████████████████████████████████████████████████████████████████████████████████████████████████████████████████████████████████████████████████████████████████████████████████████████████████████████████████████████████████████████████████████████████████████████████████████████████████████████████████████████████████████████████████████████████████████████████████████████████████████████████████████████████████████████████████████████████████████████████████████████████████████████████████████████████████████████████████████████████████████████████████████████████████████████████████████████████████████████████████████| 100/100 [00:01<00:00, 95.71it/s]\n"
     ]
    }
   ],
   "source": [
    "# Place holders----\n",
    "train_losses = []\n",
    "train_metrics = []\n",
    "test_losses = []\n",
    "test_metrics = []\n",
    "\n",
    "for epoch in range(0, epochs):\n",
    "    print(f\"Epoch {epoch}\")\n",
    "    train_losses, train_metrics = train_module(\n",
    "        basic_classifier,\n",
    "        device,\n",
    "        train_loader,\n",
    "        optimizer,\n",
    "        criterion,\n",
    "        metric,\n",
    "        train_losses,\n",
    "        train_metrics,\n",
    "    )\n",
    "    test_losses, test_metrics = test_module(\n",
    "        basic_classifier,\n",
    "        device,\n",
    "        test_loader,\n",
    "        criterion,\n",
    "        metric,\n",
    "        test_losses,\n",
    "        test_metrics,\n",
    "    )"
   ]
  },
  {
   "cell_type": "code",
   "execution_count": 41,
   "metadata": {},
   "outputs": [
    {
     "data": {
      "image/png": "[encoded data removed]",
      "text/plain": [
       "<Figure size 432x288 with 2 Axes>"
      ]
     },
     "metadata": {
      "needs_background": "light"
     },
     "output_type": "display_data"
    }
   ],
   "source": [
    "plot_loss_accuracy(\n",
    "    train_loss=[train_losses],\n",
    "    val_loss=[test_losses],\n",
    "    train_acc=[train_metrics],\n",
    "    val_acc=[test_metrics],\n",
    "    labels=[\"BOWModel\"],\n",
    "    colors=[\"blue\"],\n",
    "    loss_legend_loc=\"upper left\",\n",
    "    acc_legend_loc=\"upper left\",\n",
    "    legend_font=7,\n",
    ")"
   ]
  },
  {
   "cell_type": "code",
   "execution_count": 42,
   "metadata": {},
   "outputs": [
    {
     "name": "stdout",
     "output_type": "stream",
     "text": [
      "(1000,)\n",
      "(1000,)\n"
     ]
    }
   ],
   "source": [
    "Y_actual, Y_preds = MakePredictions(basic_classifier, test_loader)\n",
    "print(Y_actual.shape)\n",
    "print(Y_preds.shape)"
   ]
  },
  {
   "cell_type": "code",
   "execution_count": 43,
   "metadata": {},
   "outputs": [
    {
     "name": "stdout",
     "output_type": "stream",
     "text": [
      "Test Accuracy : 0.694\n",
      "\n",
      "Classification Report : \n",
      "              precision    recall  f1-score   support\n",
      "\n",
      "           0       0.67      0.80      0.73       268\n",
      "           1       0.94      0.62      0.74       274\n",
      "           2       0.70      0.45      0.55       205\n",
      "           3       0.59      0.86      0.70       253\n",
      "\n",
      "    accuracy                           0.69      1000\n",
      "   macro avg       0.73      0.68      0.68      1000\n",
      "weighted avg       0.73      0.69      0.69      1000\n",
      "\n",
      "\n",
      "Confusion Matrix : \n",
      "[[215   8  16  29]\n",
      " [ 59 169   8  38]\n",
      " [ 27   2  93  83]\n",
      " [ 20   1  15 217]]\n"
     ]
    }
   ],
   "source": [
    "print(\"Test Accuracy : {}\".format(accuracy_score(Y_actual, Y_preds)))\n",
    "print(\"\\nClassification Report : \")\n",
    "print(classification_report(Y_actual, Y_preds))\n",
    "print(\"\\nConfusion Matrix : \")\n",
    "print(confusion_matrix(Y_actual, Y_preds))"
   ]
  },
  {
   "cell_type": "code",
   "execution_count": null,
   "metadata": {},
   "outputs": [],
   "source": []
  },
  {
   "cell_type": "code",
   "execution_count": null,
   "metadata": {},
   "outputs": [],
   "source": []
  }
 ],
 "metadata": {
  "kernelspec": {
   "display_name": "torch_env",
   "language": "python",
   "name": "python3"
  },
  "language_info": {
   "codemirror_mode": {
    "name": "ipython",
    "version": 3
   },
   "file_extension": ".py",
   "mimetype": "text/x-python",
   "name": "python",
   "nbconvert_exporter": "python",
   "pygments_lexer": "ipython3",
   "version": "3.10.12"
  }
 },
 "nbformat": 4,
 "nbformat_minor": 2
}
